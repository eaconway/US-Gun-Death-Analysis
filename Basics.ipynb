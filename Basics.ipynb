{
 "cells": [
  {
   "cell_type": "code",
   "execution_count": 5,
   "metadata": {},
   "outputs": [
    {
     "name": "stdout",
     "output_type": "stream",
     "text": [
      "['', 'year', 'month', 'intent', 'police', 'sex', 'age', 'race', 'hispanic', 'place', 'education']\n",
      "['1', '2012', '01', 'Suicide', '0', 'M', '34', 'Asian/Pacific Islander', '100', 'Home', '4']\n",
      "['2', '2012', '01', 'Suicide', '0', 'F', '21', 'White', '100', 'Street', '3']\n",
      "['3', '2012', '01', 'Suicide', '0', 'M', '60', 'White', '100', 'Other specified', '4']\n",
      "['4', '2012', '02', 'Suicide', '0', 'M', '64', 'White', '100', 'Home', '4']\n"
     ]
    }
   ],
   "source": [
    "import csv\n",
    "\n",
    "f= open(\"full_data.csv\")\n",
    "data = list(csv.reader(f))\n",
    "\n",
    "def print_data():\n",
    "    for index in range(5):\n",
    "        print (data[index])\n",
    "        \n",
    "print_data()"
   ]
  },
  {
   "cell_type": "code",
   "execution_count": 6,
   "metadata": {},
   "outputs": [
    {
     "name": "stdout",
     "output_type": "stream",
     "text": [
      "[['', 'year', 'month', 'intent', 'police', 'sex', 'age', 'race', 'hispanic', 'place', 'education']]\n"
     ]
    }
   ],
   "source": [
    "headers = data[:1]\n",
    "data = data[1:]\n",
    "print (headers)"
   ]
  },
  {
   "cell_type": "code",
   "execution_count": 7,
   "metadata": {},
   "outputs": [
    {
     "name": "stdout",
     "output_type": "stream",
     "text": [
      "['1', '2012', '01', 'Suicide', '0', 'M', '34', 'Asian/Pacific Islander', '100', 'Home', '4']\n",
      "['2', '2012', '01', 'Suicide', '0', 'F', '21', 'White', '100', 'Street', '3']\n",
      "['3', '2012', '01', 'Suicide', '0', 'M', '60', 'White', '100', 'Other specified', '4']\n",
      "['4', '2012', '02', 'Suicide', '0', 'M', '64', 'White', '100', 'Home', '4']\n",
      "['5', '2012', '02', 'Suicide', '0', 'M', '31', 'White', '100', 'Other specified', '2']\n"
     ]
    }
   ],
   "source": [
    "print_data()"
   ]
  },
  {
   "cell_type": "code",
   "execution_count": 11,
   "metadata": {},
   "outputs": [
    {
     "name": "stdout",
     "output_type": "stream",
     "text": [
      "{'2012': 33563, '2014': 33599, '2013': 33636}\n"
     ]
    }
   ],
   "source": [
    "years = [i[1] for i in data]\n",
    "#Pulls out all years within dataset and dict for unique counts\n",
    "years_count= dict()\n",
    "\n",
    "for year in years:\n",
    "    if year in years_count:\n",
    "        years_count[year] += 1\n",
    "    else:\n",
    "        years_count[year] = 1\n",
    "print(years_count)"
   ]
  },
  {
   "cell_type": "code",
   "execution_count": 10,
   "metadata": {},
   "outputs": [
    {
     "name": "stdout",
     "output_type": "stream",
     "text": [
      "['1', '2012', '01', 'Suicide', '0', 'M', '34', 'Asian/Pacific Islander', '100', 'Home', '4']\n",
      "['2', '2012', '01', 'Suicide', '0', 'F', '21', 'White', '100', 'Street', '3']\n",
      "['3', '2012', '01', 'Suicide', '0', 'M', '60', 'White', '100', 'Other specified', '4']\n",
      "['4', '2012', '02', 'Suicide', '0', 'M', '64', 'White', '100', 'Home', '4']\n",
      "['5', '2012', '02', 'Suicide', '0', 'M', '31', 'White', '100', 'Other specified', '2']\n"
     ]
    }
   ],
   "source": [
    "import datetime\n",
    "\n",
    "dates = [datetime.datetime(year = int(i[1]), month = int(i[2]), day = 1) for i in data]\n",
    "print_data()\n"
   ]
  },
  {
   "cell_type": "code",
   "execution_count": 12,
   "metadata": {},
   "outputs": [
    {
     "data": {
      "text/plain": [
       "{datetime.datetime(2012, 1, 1, 0, 0): 2758,\n",
       " datetime.datetime(2012, 2, 1, 0, 0): 2357,\n",
       " datetime.datetime(2012, 3, 1, 0, 0): 2743,\n",
       " datetime.datetime(2012, 4, 1, 0, 0): 2795,\n",
       " datetime.datetime(2012, 5, 1, 0, 0): 2999,\n",
       " datetime.datetime(2012, 6, 1, 0, 0): 2826,\n",
       " datetime.datetime(2012, 7, 1, 0, 0): 3026,\n",
       " datetime.datetime(2012, 8, 1, 0, 0): 2954,\n",
       " datetime.datetime(2012, 9, 1, 0, 0): 2852,\n",
       " datetime.datetime(2012, 10, 1, 0, 0): 2733,\n",
       " datetime.datetime(2012, 11, 1, 0, 0): 2729,\n",
       " datetime.datetime(2012, 12, 1, 0, 0): 2791,\n",
       " datetime.datetime(2013, 1, 1, 0, 0): 2864,\n",
       " datetime.datetime(2013, 2, 1, 0, 0): 2375,\n",
       " datetime.datetime(2013, 3, 1, 0, 0): 2862,\n",
       " datetime.datetime(2013, 4, 1, 0, 0): 2798,\n",
       " datetime.datetime(2013, 5, 1, 0, 0): 2806,\n",
       " datetime.datetime(2013, 6, 1, 0, 0): 2920,\n",
       " datetime.datetime(2013, 7, 1, 0, 0): 3079,\n",
       " datetime.datetime(2013, 8, 1, 0, 0): 2859,\n",
       " datetime.datetime(2013, 9, 1, 0, 0): 2742,\n",
       " datetime.datetime(2013, 10, 1, 0, 0): 2808,\n",
       " datetime.datetime(2013, 11, 1, 0, 0): 2758,\n",
       " datetime.datetime(2013, 12, 1, 0, 0): 2765,\n",
       " datetime.datetime(2014, 1, 1, 0, 0): 2651,\n",
       " datetime.datetime(2014, 2, 1, 0, 0): 2361,\n",
       " datetime.datetime(2014, 3, 1, 0, 0): 2684,\n",
       " datetime.datetime(2014, 4, 1, 0, 0): 2862,\n",
       " datetime.datetime(2014, 5, 1, 0, 0): 2864,\n",
       " datetime.datetime(2014, 6, 1, 0, 0): 2931,\n",
       " datetime.datetime(2014, 7, 1, 0, 0): 2884,\n",
       " datetime.datetime(2014, 8, 1, 0, 0): 2970,\n",
       " datetime.datetime(2014, 9, 1, 0, 0): 2914,\n",
       " datetime.datetime(2014, 10, 1, 0, 0): 2865,\n",
       " datetime.datetime(2014, 11, 1, 0, 0): 2756,\n",
       " datetime.datetime(2014, 12, 1, 0, 0): 2857}"
      ]
     },
     "execution_count": 12,
     "metadata": {},
     "output_type": "execute_result"
    }
   ],
   "source": [
    "date_counts = dict()\n",
    "\n",
    "for date in dates:\n",
    "    if date not in date_counts:\n",
    "        date_counts[date] = 0\n",
    "    date_counts[date] += 1\n",
    "\n",
    "date_counts"
   ]
  },
  {
   "cell_type": "code",
   "execution_count": 13,
   "metadata": {},
   "outputs": [
    {
     "name": "stdout",
     "output_type": "stream",
     "text": [
      "['1', '2012', '01', 'Suicide', '0', 'M', '34', 'Asian/Pacific Islander', '100', 'Home', '4']\n",
      "['2', '2012', '01', 'Suicide', '0', 'F', '21', 'White', '100', 'Street', '3']\n",
      "['3', '2012', '01', 'Suicide', '0', 'M', '60', 'White', '100', 'Other specified', '4']\n",
      "['4', '2012', '02', 'Suicide', '0', 'M', '64', 'White', '100', 'Home', '4']\n",
      "['5', '2012', '02', 'Suicide', '0', 'M', '31', 'White', '100', 'Other specified', '2']\n"
     ]
    }
   ],
   "source": [
    "print_data()"
   ]
  },
  {
   "cell_type": "code",
   "execution_count": 14,
   "metadata": {},
   "outputs": [
    {
     "name": "stdout",
     "output_type": "stream",
     "text": [
      "{'M': 86349, 'F': 14449}\n",
      "{'Asian/Pacific Islander': 1326, 'White': 66237, 'Native American/Native Alaskan': 917, 'Hispanic': 9022, 'Black': 23296}\n"
     ]
    }
   ],
   "source": [
    "sex_counts = dict()\n",
    "sex_values = [i[5] for i in data]\n",
    "\n",
    "for val in sex_values:\n",
    "    if val not in sex_counts:\n",
    "        sex_counts[val] = 0\n",
    "    sex_counts[val] += 1\n",
    "    \n",
    "race_counts = dict()\n",
    "race_values = [i[7] for i in data]\n",
    "\n",
    "for race in race_values:\n",
    "    if race not in race_counts:\n",
    "        race_counts[race] = 0\n",
    "    race_counts[race] += 1\n",
    "    \n",
    "print(sex_counts)\n",
    "print(race_counts)\n"
   ]
  },
  {
   "cell_type": "markdown",
   "metadata": {
    "collapsed": true
   },
   "source": [
    "# Q:So, what have we done so far you ask?\n",
    "# A: We've inspected GUN DEATHS!\n",
    "Specifically, we took this first phase and looked at trends across the data. We looked at columns like sex, race, year, and pulled unique values into dictionaries for quick access. We **even** looked at datetime objects and determined what those unique values were. We can later look at that data and start observing relationships.\n",
    "\n",
    "This data becomes even more interesting if we're able to compare to general population data. For this, we'll import the census data for US and use its population figures to compare gun rates."
   ]
  },
  {
   "cell_type": "code",
   "execution_count": 23,
   "metadata": {},
   "outputs": [
    {
     "name": "stdout",
     "output_type": "stream",
     "text": [
      "['Id', 'Year', 'Id', 'Sex', 'Id', 'Hispanic Origin', 'Id', 'Id2', 'Geography', 'Total', 'Race Alone - White', 'Race Alone - Hispanic', 'Race Alone - Black or African American', 'Race Alone - American Indian and Alaska Native', 'Race Alone - Asian', 'Race Alone - Native Hawaiian and Other Pacific Islander', 'Two or More Races']\n",
      "['cen42010', 'April 1, 2010 Census', 'totsex', 'Both Sexes', 'tothisp', 'Total', '0100000US', '', 'United States', '308745538', '197318956', '44618105', '40250635', '3739506', '15159516', '674625', '6984195']\n"
     ]
    }
   ],
   "source": [
    "census = list(csv.reader(open(\"census.csv\")))\n",
    "\n",
    "for line in range(2):\n",
    "    print (census[line])"
   ]
  },
  {
   "cell_type": "code",
   "execution_count": 27,
   "metadata": {},
   "outputs": [
    {
     "name": "stdout",
     "output_type": "stream",
     "text": [
      "{'Asian/Pacific Islander': 8.374309664161762, 'White': 33.56849303419181, 'Native American/Native Alaskan': 24.521955573811088, 'Hispanic': 20.220491210910907, 'Black': 57.8773477735196}\n"
     ]
    }
   ],
   "source": [
    "mapping = {\n",
    "    \"Asian/Pacific Islander\": 15159516 + 674625,\n",
    "    \"Black\": 40250635,\n",
    "    \"Native American/Native Alaskan\": 3739506,\n",
    "    \"Hispanic\": 44618105,\n",
    "    \"White\": 197318956\n",
    "}\n",
    "race_per_hundredk = dict()\n",
    "for k, v in race_counts.items():\n",
    "    race_per_hundredk[k] = (v/mapping[k])*100000\n",
    "    \n",
    "print(race_per_hundredk)"
   ]
  },
  {
   "cell_type": "code",
   "execution_count": 29,
   "metadata": {},
   "outputs": [
    {
     "name": "stdout",
     "output_type": "stream",
     "text": [
      "{'White': 4.6356417981453335, 'Asian/Pacific Islander': 3.530346230970155, 'Native American/Native Alaskan': 8.717729026240365, 'Hispanic': 12.627161104219914, 'Black': 48.471284987180944}\n"
     ]
    }
   ],
   "source": [
    "intents = [i[3] for i in data]\n",
    "races = race_values\n",
    "homicide_race_per_hundredk = dict()\n",
    "\n",
    "for i,race in enumerate(races):\n",
    "    if intents[i] == \"Homicide\":\n",
    "        if race not in homicide_race_per_hundredk:\n",
    "            homicide_race_per_hundredk[race] = 0\n",
    "        homicide_race_per_hundredk[race] += 1\n",
    "\n",
    "for k,v in homicide_race_per_hundredk.items():\n",
    "    homicide_race_per_hundredk[k] = (v/mapping[k])*100000\n",
    "    \n",
    "print(homicide_race_per_hundredk)"
   ]
  },
  {
   "cell_type": "code",
   "execution_count": 32,
   "metadata": {},
   "outputs": [
    {
     "name": "stdout",
     "output_type": "stream",
     "text": [
      "{'Homicide': 35176, 'Suicide': 63175, 'Undetermined': 807, 'Accidental': 1639, 'NA': 1}\n"
     ]
    }
   ],
   "source": [
    "intents_dict = dict()\n",
    "\n",
    "for intent in intents:\n",
    "    if intent not in intents_dict:\n",
    "        intents_dict[intent] = 0\n",
    "    intents_dict[intent]+=1\n",
    "print(intents_dict)"
   ]
  },
  {
   "cell_type": "code",
   "execution_count": 40,
   "metadata": {},
   "outputs": [
    {
     "name": "stdout",
     "output_type": "stream",
     "text": [
      "{'Asian/Pacific Islander': 4.705023152187416, 'White': 28.06217969245692, 'Native American/Native Alaskan': 14.841532544673013, 'Hispanic': 7.106980451097149, 'Black': 8.278130270491385}\n"
     ]
    }
   ],
   "source": [
    "suicide_race_per_hundredk = dict()\n",
    "\n",
    "for i,race in enumerate(races):\n",
    "    if intents[i] == \"Suicide\":\n",
    "        if race not in suicide_race_per_hundredk:\n",
    "            suicide_race_per_hundredk[race] = 0\n",
    "        suicide_race_per_hundredk[race]+=1\n",
    "\n",
    "for k,v in suicide_race_per_hundredk.items():\n",
    "    suicide_race_per_hundredk[k] = (v/mapping[k])*100000\n",
    "    \n",
    "print(suicide_race_per_hundredk)"
   ]
  },
  {
   "cell_type": "markdown",
   "metadata": {},
   "source": [
    "# Results\n",
    "#### In short, the black population has a much higher homicide rate than other racial communities, by a factor of 10 \n",
    "Initially, we looked at likelihood of gun-death by racial community, regardless of intent. While Black racial gun death were still most prevelant, other communities weren't far behind. \n",
    "\n",
    "This was interesting, but we also want to be looking at intent. We looked at both homicide and suicide rates per race, weighted. For homicide, black communties far outweight any other, with hispanic communities coming in at a distant second. For suicide, White communites seem to experience more instances relative to the total population, followed by Native American communities."
   ]
  },
  {
   "cell_type": "code",
   "execution_count": 44,
   "metadata": {},
   "outputs": [
    {
     "name": "stdout",
     "output_type": "stream",
     "text": [
      "{'M': 85.66539018631322, 'F': 14.33460981368678}\n"
     ]
    }
   ],
   "source": [
    "sex_per_total = dict()\n",
    "\n",
    "for k,v in sex_counts.items():\n",
    "    sex_per_total[k] = (v/len(data))*100\n",
    "    \n",
    "print (sex_per_total)"
   ]
  },
  {
   "cell_type": "code",
   "execution_count": 42,
   "metadata": {},
   "outputs": [
    {
     "name": "stdout",
     "output_type": "stream",
     "text": [
      "{'06': 8677, '08': 8783, '09': 8508, '11': 8243, '03': 8289, '02': 7093, '07': 8989, '01': 8273, '04': 8455, '12': 8413, '10': 8406, '05': 8669}\n"
     ]
    }
   ],
   "source": [
    "month_counts = dict()\n",
    "months = [i[2] for i in data]\n",
    "\n",
    "for month in months:\n",
    "    if month not in month_counts:\n",
    "        month_counts[month] = 0\n",
    "    month_counts[month] += 1\n",
    "    \n",
    "print(month_counts)"
   ]
  },
  {
   "cell_type": "code",
   "execution_count": 50,
   "metadata": {},
   "outputs": [
    {
     "data": {
      "text/plain": [
       "{'Asian/Pacific Islander': 7.578560782046845,\n",
       " 'Black': 81.4893976206835,\n",
       " 'Hispanic': 32.49801846133985,\n",
       " 'Native American/Native Alaskan': 58.83130017708221,\n",
       " 'White': 57.36904466492312}"
      ]
     },
     "execution_count": 50,
     "metadata": {},
     "output_type": "execute_result"
    }
   ],
   "source": [
    "accidental_race_per_hundredk = dict()\n",
    "\n",
    "for intent, race in enumerate(races):\n",
    "    if intents[intent] == \"Accidental\":\n",
    "        if race not in accidental_race_per_hundredk:\n",
    "            accidental_race_per_hundredk[race] = 0\n",
    "        accidental_race_per_hundredk[race] += 1\n",
    "        \n",
    "for k,v in accidental_race_per_hundredk.items():\n",
    "    accidental_race_per_hundredk[k] = (v/mapping[k])*10000000\n",
    "accidental_race_per_hundredk"
   ]
  },
  {
   "cell_type": "markdown",
   "metadata": {
    "collapsed": true
   },
   "source": [
    "### Additional Results\n",
    "Unsurprisingly, it seems like warmer months result in higher deaths. This makes sense since people are alikely more often interacting when its warm, enjoying the weather.\n",
    "\n",
    "Additionally, men tend to be involved with gun deaths more likely than women. Accidental deaths are also higher for Black communities, though this could be tied to the high homicide rate."
   ]
  },
  {
   "cell_type": "code",
   "execution_count": null,
   "metadata": {
    "collapsed": true
   },
   "outputs": [],
   "source": []
  }
 ],
 "metadata": {
  "kernelspec": {
   "display_name": "Python 3",
   "language": "python",
   "name": "python3"
  },
  "language_info": {
   "codemirror_mode": {
    "name": "ipython",
    "version": 3
   },
   "file_extension": ".py",
   "mimetype": "text/x-python",
   "name": "python",
   "nbconvert_exporter": "python",
   "pygments_lexer": "ipython3",
   "version": "3.4.3"
  }
 },
 "nbformat": 4,
 "nbformat_minor": 1
}
